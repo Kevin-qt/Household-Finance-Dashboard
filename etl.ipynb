{
 "cells": [
  {
   "attachments": {},
   "cell_type": "markdown",
   "metadata": {},
   "source": [
    "### Extract data from csv"
   ]
  },
  {
   "cell_type": "code",
   "execution_count": 1,
   "metadata": {},
   "outputs": [],
   "source": [
    "# Import libraries for data manipulation\n",
    "import pandas as pd\n",
    "import numpy as np\n",
    "import mysql.connector\n",
    "import os"
   ]
  },
  {
   "cell_type": "code",
   "execution_count": 2,
   "metadata": {},
   "outputs": [],
   "source": [
    "# Load raw data from csv file\n",
    "df = pd.read_csv('data_sample.csv', encoding='iso-8859-1')"
   ]
  },
  {
   "cell_type": "code",
   "execution_count": 3,
   "metadata": {},
   "outputs": [
    {
     "data": {
      "text/html": [
       "<div>\n",
       "<style scoped>\n",
       "    .dataframe tbody tr th:only-of-type {\n",
       "        vertical-align: middle;\n",
       "    }\n",
       "\n",
       "    .dataframe tbody tr th {\n",
       "        vertical-align: top;\n",
       "    }\n",
       "\n",
       "    .dataframe thead th {\n",
       "        text-align: right;\n",
       "    }\n",
       "</style>\n",
       "<table border=\"1\" class=\"dataframe\">\n",
       "  <thead>\n",
       "    <tr style=\"text-align: right;\">\n",
       "      <th></th>\n",
       "      <th>ï»¿Date</th>\n",
       "      <th>Categories</th>\n",
       "      <th>Description</th>\n",
       "      <th>Amount</th>\n",
       "      <th>Person</th>\n",
       "    </tr>\n",
       "  </thead>\n",
       "  <tbody>\n",
       "    <tr>\n",
       "      <th>0</th>\n",
       "      <td>01/29/2023</td>\n",
       "      <td>Transport</td>\n",
       "      <td>Uber</td>\n",
       "      <td>80.00</td>\n",
       "      <td>Nicole</td>\n",
       "    </tr>\n",
       "    <tr>\n",
       "      <th>1</th>\n",
       "      <td>01/29/2023</td>\n",
       "      <td>Dineout</td>\n",
       "      <td>Dinner</td>\n",
       "      <td>44.00</td>\n",
       "      <td>Kevin</td>\n",
       "    </tr>\n",
       "    <tr>\n",
       "      <th>2</th>\n",
       "      <td>01/29/2023</td>\n",
       "      <td>Groceries</td>\n",
       "      <td>Metro</td>\n",
       "      <td>82.85</td>\n",
       "      <td>Nicole</td>\n",
       "    </tr>\n",
       "    <tr>\n",
       "      <th>3</th>\n",
       "      <td>01/30/2023</td>\n",
       "      <td>Groceries</td>\n",
       "      <td>Metro</td>\n",
       "      <td>121.64</td>\n",
       "      <td>Nicole</td>\n",
       "    </tr>\n",
       "    <tr>\n",
       "      <th>4</th>\n",
       "      <td>01/30/2023</td>\n",
       "      <td>Groceries</td>\n",
       "      <td>Dollarama</td>\n",
       "      <td>11.30</td>\n",
       "      <td>Nicole</td>\n",
       "    </tr>\n",
       "  </tbody>\n",
       "</table>\n",
       "</div>"
      ],
      "text/plain": [
       "      ï»¿Date  Categories Description  Amount  Person\n",
       "0  01/29/2023   Transport        Uber   80.00  Nicole\n",
       "1  01/29/2023     Dineout      Dinner   44.00   Kevin\n",
       "2  01/29/2023  Groceries        Metro   82.85  Nicole\n",
       "3  01/30/2023  Groceries        Metro  121.64  Nicole\n",
       "4  01/30/2023  Groceries    Dollarama   11.30  Nicole"
      ]
     },
     "execution_count": 3,
     "metadata": {},
     "output_type": "execute_result"
    }
   ],
   "source": [
    "# Take a look of the dataframe\n",
    "df.head()"
   ]
  },
  {
   "attachments": {},
   "cell_type": "markdown",
   "metadata": {},
   "source": [
    "### Transform data"
   ]
  },
  {
   "cell_type": "code",
   "execution_count": 4,
   "metadata": {},
   "outputs": [],
   "source": [
    "# Rename columns to match the database schema\n",
    "df.rename(columns={'ï»¿Date':'TransactionDate', 'Categories':'CategoryID', 'Person':'UserID'}, inplace=True)"
   ]
  },
  {
   "cell_type": "code",
   "execution_count": 5,
   "metadata": {},
   "outputs": [],
   "source": [
    "# Convert Categories into CategoryID\n",
    "mapping = {'Income': 1, 'Groceries ': 2, 'Transport': 3, 'Dineout': 4, 'Beauty': 5, 'Furniture': 6, 'Household': 7, 'Kitchen': 8,\n",
    "           'Rent': 9, 'Entertainment': 10, 'Miscellaneous': 11}\n",
    "df['CategoryID'] = df['CategoryID'].map(mapping)"
   ]
  },
  {
   "cell_type": "code",
   "execution_count": 6,
   "metadata": {},
   "outputs": [],
   "source": [
    "# Convert User into UserID\n",
    "mapping = {'Kevin': 1, 'Nicole': 2}\n",
    "df['UserID'] = df['UserID'].map(mapping)"
   ]
  },
  {
   "cell_type": "code",
   "execution_count": 7,
   "metadata": {},
   "outputs": [],
   "source": [
    "# Convert TransactionDate into datetime\n",
    "df['TransactionDate'] = pd.to_datetime(df['TransactionDate'], format='%m/%d/%Y')"
   ]
  },
  {
   "cell_type": "code",
   "execution_count": 8,
   "metadata": {},
   "outputs": [
    {
     "data": {
      "text/html": [
       "<div>\n",
       "<style scoped>\n",
       "    .dataframe tbody tr th:only-of-type {\n",
       "        vertical-align: middle;\n",
       "    }\n",
       "\n",
       "    .dataframe tbody tr th {\n",
       "        vertical-align: top;\n",
       "    }\n",
       "\n",
       "    .dataframe thead th {\n",
       "        text-align: right;\n",
       "    }\n",
       "</style>\n",
       "<table border=\"1\" class=\"dataframe\">\n",
       "  <thead>\n",
       "    <tr style=\"text-align: right;\">\n",
       "      <th></th>\n",
       "      <th>TransactionDate</th>\n",
       "      <th>CategoryID</th>\n",
       "      <th>Description</th>\n",
       "      <th>Amount</th>\n",
       "      <th>UserID</th>\n",
       "    </tr>\n",
       "  </thead>\n",
       "  <tbody>\n",
       "    <tr>\n",
       "      <th>0</th>\n",
       "      <td>2023-01-29</td>\n",
       "      <td>3</td>\n",
       "      <td>Uber</td>\n",
       "      <td>80.00</td>\n",
       "      <td>2</td>\n",
       "    </tr>\n",
       "    <tr>\n",
       "      <th>1</th>\n",
       "      <td>2023-01-29</td>\n",
       "      <td>4</td>\n",
       "      <td>Dinner</td>\n",
       "      <td>44.00</td>\n",
       "      <td>1</td>\n",
       "    </tr>\n",
       "    <tr>\n",
       "      <th>2</th>\n",
       "      <td>2023-01-29</td>\n",
       "      <td>2</td>\n",
       "      <td>Metro</td>\n",
       "      <td>82.85</td>\n",
       "      <td>2</td>\n",
       "    </tr>\n",
       "    <tr>\n",
       "      <th>3</th>\n",
       "      <td>2023-01-30</td>\n",
       "      <td>2</td>\n",
       "      <td>Metro</td>\n",
       "      <td>121.64</td>\n",
       "      <td>2</td>\n",
       "    </tr>\n",
       "    <tr>\n",
       "      <th>4</th>\n",
       "      <td>2023-01-30</td>\n",
       "      <td>2</td>\n",
       "      <td>Dollarama</td>\n",
       "      <td>11.30</td>\n",
       "      <td>2</td>\n",
       "    </tr>\n",
       "  </tbody>\n",
       "</table>\n",
       "</div>"
      ],
      "text/plain": [
       "  TransactionDate  CategoryID Description  Amount  UserID\n",
       "0      2023-01-29           3        Uber   80.00       2\n",
       "1      2023-01-29           4      Dinner   44.00       1\n",
       "2      2023-01-29           2       Metro   82.85       2\n",
       "3      2023-01-30           2       Metro  121.64       2\n",
       "4      2023-01-30           2   Dollarama   11.30       2"
      ]
     },
     "execution_count": 8,
     "metadata": {},
     "output_type": "execute_result"
    }
   ],
   "source": [
    "# Review the transformed data\n",
    "df.head()"
   ]
  },
  {
   "attachments": {},
   "cell_type": "markdown",
   "metadata": {},
   "source": [
    "### Load data into MySQL database"
   ]
  },
  {
   "cell_type": "code",
   "execution_count": 9,
   "metadata": {},
   "outputs": [],
   "source": [
    "# Get keys from environment variables\n",
    "myhost = os.environ.get('MYSQLHOST')\n",
    "myuser = os.environ.get('MYSQLUSER')\n",
    "mypassword = os.environ.get('MYSQLPASS')\n",
    "my_db = 'householdfinance'\n",
    "\n",
    "# Establish connection to the database\n",
    "mydb = mysql.connector.connect(\n",
    "    host=myhost,\n",
    "    user=myuser,\n",
    "    password=mypassword,\n",
    "    database=my_db\n",
    ")"
   ]
  },
  {
   "cell_type": "code",
   "execution_count": 10,
   "metadata": {},
   "outputs": [],
   "source": [
    "# Create a cursor\n",
    "cursor = mydb.cursor()"
   ]
  },
  {
   "cell_type": "code",
   "execution_count": 11,
   "metadata": {},
   "outputs": [],
   "source": [
    "# define the query\n",
    "sql_query = 'INSERT INTO transactions (TransactionDate, CategoryID, Description, Amount, UserID) VALUES (%s, %s, %s, %s, %s)'"
   ]
  },
  {
   "cell_type": "code",
   "execution_count": 12,
   "metadata": {},
   "outputs": [],
   "source": [
    "# define the values to be inserted\n",
    "values = list(df.itertuples(index=False, name=None))\n",
    "\n",
    "for value in values:\n",
    "    cursor.execute(sql_query, value)\n",
    "\n",
    "# Commit the changes\n",
    "mydb.commit()"
   ]
  },
  {
   "cell_type": "code",
   "execution_count": 13,
   "metadata": {},
   "outputs": [],
   "source": [
    "# Close the cursor and the connection\n",
    "cursor.close()\n",
    "mydb.close()"
   ]
  }
 ],
 "metadata": {
  "kernelspec": {
   "display_name": "Python 3",
   "language": "python",
   "name": "python3"
  },
  "language_info": {
   "codemirror_mode": {
    "name": "ipython",
    "version": 3
   },
   "file_extension": ".py",
   "mimetype": "text/x-python",
   "name": "python",
   "nbconvert_exporter": "python",
   "pygments_lexer": "ipython3",
   "version": "3.10.4"
  },
  "orig_nbformat": 4
 },
 "nbformat": 4,
 "nbformat_minor": 2
}
